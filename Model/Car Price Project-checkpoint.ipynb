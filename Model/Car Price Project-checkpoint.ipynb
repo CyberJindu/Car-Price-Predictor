{
 "cells": [
  {
   "cell_type": "markdown",
   "id": "fd7779a7-da7f-466e-944d-159c8973752d",
   "metadata": {},
   "source": [
    "### Getting the Dataset "
   ]
  },
  {
   "cell_type": "code",
   "execution_count": 7,
   "id": "06fdf299-868c-46c3-bb38-66647e175d3c",
   "metadata": {},
   "outputs": [],
   "source": [
    "import pandas as pd"
   ]
  },
  {
   "cell_type": "code",
   "execution_count": 8,
   "id": "666d5a14-7605-4455-b419-c7d47ac1628d",
   "metadata": {},
   "outputs": [],
   "source": [
    "import numpy as np"
   ]
  },
  {
   "cell_type": "code",
   "execution_count": 97,
   "id": "e5080503-f61f-4051-8edc-2dd0a034c611",
   "metadata": {},
   "outputs": [
    {
     "data": {
      "text/html": [
       "<div>\n",
       "<style scoped>\n",
       "    .dataframe tbody tr th:only-of-type {\n",
       "        vertical-align: middle;\n",
       "    }\n",
       "\n",
       "    .dataframe tbody tr th {\n",
       "        vertical-align: top;\n",
       "    }\n",
       "\n",
       "    .dataframe thead th {\n",
       "        text-align: right;\n",
       "    }\n",
       "</style>\n",
       "<table border=\"1\" class=\"dataframe\">\n",
       "  <thead>\n",
       "    <tr style=\"text-align: right;\">\n",
       "      <th></th>\n",
       "      <th>Price</th>\n",
       "      <th>Fuel Type</th>\n",
       "      <th>Make</th>\n",
       "      <th>Model</th>\n",
       "      <th>Year of manufacture</th>\n",
       "      <th>Condition</th>\n",
       "      <th>Mileage</th>\n",
       "      <th>Engine Size</th>\n",
       "      <th>Selling Condition</th>\n",
       "      <th>Bought Condition</th>\n",
       "      <th>Car Type</th>\n",
       "      <th>Drivetrain</th>\n",
       "      <th>Seats</th>\n",
       "      <th>Number of Cylinders</th>\n",
       "      <th>Horse Power</th>\n",
       "      <th>Registered State</th>\n",
       "      <th>Average Make Price</th>\n",
       "      <th>Average Car Type Price</th>\n",
       "    </tr>\n",
       "  </thead>\n",
       "  <tbody>\n",
       "    <tr>\n",
       "      <th>0</th>\n",
       "      <td>2812500</td>\n",
       "      <td>Petrol</td>\n",
       "      <td>Toyota</td>\n",
       "      <td>Corolla</td>\n",
       "      <td>2004</td>\n",
       "      <td>Nigerian Used</td>\n",
       "      <td>251732.0</td>\n",
       "      <td>1800.0</td>\n",
       "      <td>Registered</td>\n",
       "      <td>Registered</td>\n",
       "      <td>Unknown</td>\n",
       "      <td>Unknown</td>\n",
       "      <td>Unknown</td>\n",
       "      <td>Unknown</td>\n",
       "      <td>Unknown</td>\n",
       "      <td>Unknown</td>\n",
       "      <td>4.192712e+06</td>\n",
       "      <td>3.574587e+06</td>\n",
       "    </tr>\n",
       "    <tr>\n",
       "      <th>1</th>\n",
       "      <td>5000000</td>\n",
       "      <td>Petrol</td>\n",
       "      <td>Acura</td>\n",
       "      <td>MDX</td>\n",
       "      <td>2007</td>\n",
       "      <td>Foreign Used</td>\n",
       "      <td>224589.0</td>\n",
       "      <td>3700.0</td>\n",
       "      <td>Imported</td>\n",
       "      <td>Imported</td>\n",
       "      <td>SUV</td>\n",
       "      <td>Unknown</td>\n",
       "      <td>Unknown</td>\n",
       "      <td>Unknown</td>\n",
       "      <td>Unknown</td>\n",
       "      <td>Unknown</td>\n",
       "      <td>3.860969e+06</td>\n",
       "      <td>6.157591e+06</td>\n",
       "    </tr>\n",
       "    <tr>\n",
       "      <th>2</th>\n",
       "      <td>7592000</td>\n",
       "      <td>Petrol</td>\n",
       "      <td>Acura</td>\n",
       "      <td>TL</td>\n",
       "      <td>2012</td>\n",
       "      <td>Foreign Used</td>\n",
       "      <td>111334.0</td>\n",
       "      <td>3500.0</td>\n",
       "      <td>Imported</td>\n",
       "      <td>Imported</td>\n",
       "      <td>Sedan</td>\n",
       "      <td>All Wheel</td>\n",
       "      <td>5.0</td>\n",
       "      <td>6.0</td>\n",
       "      <td>309.0</td>\n",
       "      <td>Unknown</td>\n",
       "      <td>3.860969e+06</td>\n",
       "      <td>4.116065e+06</td>\n",
       "    </tr>\n",
       "    <tr>\n",
       "      <th>3</th>\n",
       "      <td>9880000</td>\n",
       "      <td>Petrol</td>\n",
       "      <td>Others</td>\n",
       "      <td>Range Rover</td>\n",
       "      <td>2012</td>\n",
       "      <td>Nigerian Used</td>\n",
       "      <td>72682.0</td>\n",
       "      <td>4000.0</td>\n",
       "      <td>Registered</td>\n",
       "      <td>Imported</td>\n",
       "      <td>SUV</td>\n",
       "      <td>Unknown</td>\n",
       "      <td>Unknown</td>\n",
       "      <td>Unknown</td>\n",
       "      <td>Unknown</td>\n",
       "      <td>Unknown</td>\n",
       "      <td>5.978581e+06</td>\n",
       "      <td>6.157591e+06</td>\n",
       "    </tr>\n",
       "    <tr>\n",
       "      <th>4</th>\n",
       "      <td>4160000</td>\n",
       "      <td>Petrol</td>\n",
       "      <td>Ford</td>\n",
       "      <td>Edge</td>\n",
       "      <td>2013</td>\n",
       "      <td>Nigerian Used</td>\n",
       "      <td>92118.0</td>\n",
       "      <td>3500.0</td>\n",
       "      <td>Registered</td>\n",
       "      <td>Registered</td>\n",
       "      <td>SUV</td>\n",
       "      <td>Unknown</td>\n",
       "      <td>Unknown</td>\n",
       "      <td>Unknown</td>\n",
       "      <td>Unknown</td>\n",
       "      <td>Lagos</td>\n",
       "      <td>4.706441e+06</td>\n",
       "      <td>6.157591e+06</td>\n",
       "    </tr>\n",
       "  </tbody>\n",
       "</table>\n",
       "</div>"
      ],
      "text/plain": [
       "     Price Fuel Type    Make        Model  Year of manufacture      Condition  \\\n",
       "0  2812500    Petrol  Toyota      Corolla                 2004  Nigerian Used   \n",
       "1  5000000    Petrol   Acura          MDX                 2007   Foreign Used   \n",
       "2  7592000    Petrol   Acura           TL                 2012   Foreign Used   \n",
       "3  9880000    Petrol  Others  Range Rover                 2012  Nigerian Used   \n",
       "4  4160000    Petrol    Ford         Edge                 2013  Nigerian Used   \n",
       "\n",
       "    Mileage Engine Size Selling Condition Bought Condition Car Type  \\\n",
       "0  251732.0      1800.0        Registered       Registered  Unknown   \n",
       "1  224589.0      3700.0          Imported         Imported      SUV   \n",
       "2  111334.0      3500.0          Imported         Imported    Sedan   \n",
       "3   72682.0      4000.0        Registered         Imported      SUV   \n",
       "4   92118.0      3500.0        Registered       Registered      SUV   \n",
       "\n",
       "  Drivetrain    Seats Number of Cylinders Horse Power Registered State  \\\n",
       "0    Unknown  Unknown             Unknown     Unknown          Unknown   \n",
       "1    Unknown  Unknown             Unknown     Unknown          Unknown   \n",
       "2  All Wheel      5.0                 6.0       309.0          Unknown   \n",
       "3    Unknown  Unknown             Unknown     Unknown          Unknown   \n",
       "4    Unknown  Unknown             Unknown     Unknown            Lagos   \n",
       "\n",
       "   Average Make Price  Average Car Type Price  \n",
       "0        4.192712e+06            3.574587e+06  \n",
       "1        3.860969e+06            6.157591e+06  \n",
       "2        3.860969e+06            4.116065e+06  \n",
       "3        5.978581e+06            6.157591e+06  \n",
       "4        4.706441e+06            6.157591e+06  "
      ]
     },
     "execution_count": 97,
     "metadata": {},
     "output_type": "execute_result"
    }
   ],
   "source": [
    "df = pd.read_csv(\"C:\\\\Users\\\\Chris Jindu\\\\Documents\\\\Cleaned Car Price.csv\")\n",
    "\n",
    "df.head(5)"
   ]
  },
  {
   "cell_type": "code",
   "execution_count": 24,
   "id": "94178615-4c57-4793-a7e9-83b46a256d7a",
   "metadata": {},
   "outputs": [
    {
     "data": {
      "text/plain": [
       "array(['Petrol', 'Diesel', 'Hybrid', 'Electric', 'Unknown'], dtype=object)"
      ]
     },
     "execution_count": 24,
     "metadata": {},
     "output_type": "execute_result"
    }
   ],
   "source": [
    "df['Fuel Type'].unique()"
   ]
  },
  {
   "cell_type": "code",
   "execution_count": null,
   "id": "6128c999-ff3e-4416-8f5a-3419dd48a307",
   "metadata": {},
   "outputs": [],
   "source": []
  },
  {
   "cell_type": "markdown",
   "id": "8caebf0b-a6ff-4605-9c6d-ef5570439f1c",
   "metadata": {},
   "source": [
    "### Cleaning the Dataset"
   ]
  },
  {
   "cell_type": "code",
   "execution_count": 133,
   "id": "627309f1-33b7-4407-b701-8d8ed8bddb4f",
   "metadata": {},
   "outputs": [
    {
     "data": {
      "image/png": "[encoded data removed]",
      "text/plain": [
       "<Figure size 640x480 with 1 Axes>"
      ]
     },
     "metadata": {},
     "output_type": "display_data"
    }
   ],
   "source": [
    "# More Cleaning\n",
    "\n",
    "# Drop the two average price columns\n",
    "#df = df.drop(columns=['Average Make Price', 'Average Car Type Price'])\n",
    "#df.head(2)\n",
    "\n",
    "\n",
    "#df = df.drop(columns = ['Selling Condition', 'Bought Condition', 'Seats'])\n",
    "#df.head(2)\n",
    "\n",
    "#df = df.drop(columns=['Fuel Type', 'Mileage', 'Drivetrain', 'Number of Cylinders'])\n",
    "#df.head(2)\n",
    "\n",
    "#df = df.drop(columns = ['Registered State'])\n",
    "#df = df.drop(columns = ['Car Type'])\n",
    "\n",
    "#Replace \"Unknown\" with NaN\n",
    "#df['Horse Power'] = df['Horse Power'].replace('Unknown', np.nan)\n",
    "\n",
    "# Convert column to numeric (this will convert any remaining non-numeric to NaN safely)\n",
    "#df['Horse Power'] = pd.to_numeric(df['Horse Power'], errors='coerce')\n",
    "\n",
    "# Fill NaN with column mean\n",
    "#hp_mean = df['Horse Power'].mean()\n",
    "#df['Horse Power'] = df['Horse Power'].fillna(hp_mean)\n",
    "\n",
    "# Make sure Engine Size is numeric\n",
    "#df['Engine Size'] = pd.to_numeric(df['Engine Size'], errors='coerce')\n",
    "\n",
    "# Filter rows where Engine Size > 4000\n",
    "#engine_above_4000 = df[df['Engine Size'] > 4000]\n",
    "\n",
    "# Display the filtered rows\n",
    "#print(engine_above_4000[['Engine Size', 'Horse Power']])\n",
    "\n",
    "# If values are too large, assume they are in cc and convert to liters\n",
    "#df['Engine Size'] = df['Engine Size'].apply(lambda x: x / 1000 if x > 20 else x)\n",
    "\n",
    "# Drop engine sizes above 15 liters as unrealistic (most cars are < 10L)\n",
    "#df1 = df[df['Engine Size'] <= 15]\n",
    "\n",
    "# Keep only realistic engine sizes\n",
    "#df2 = df[(df['Engine Size'] >= 0.5) & (df['Engine Size'] <= 15)]\n",
    "\n",
    "#df3 = df[(df['Engine Size'] >= 0.5) & (df['Engine Size'] <= 8)]\n",
    "\n",
    "\n",
    "#import seaborn as sns\n",
    "#import matplotlib.pyplot as plt\n",
    "\n",
    "# Scatter plot: Engine Size vs Horse Power\n",
    "sns.scatterplot(data=df3, x='Engine Size', y='Horse Power')\n",
    "plt.title(\"Engine Size vs Horse Power\")\n",
    "plt.show()\n"
   ]
  },
  {
   "cell_type": "code",
   "execution_count": 116,
   "id": "26bb7b59-119e-4562-84b2-af5f6cf34c13",
   "metadata": {},
   "outputs": [
    {
     "data": {
      "text/plain": [
       "14"
      ]
     },
     "execution_count": 116,
     "metadata": {},
     "output_type": "execute_result"
    }
   ],
   "source": [
    "df1['Make'].nunique()"
   ]
  },
  {
   "cell_type": "code",
   "execution_count": 134,
   "id": "5805f1d4-9898-417e-a792-d083f3f26156",
   "metadata": {},
   "outputs": [
    {
     "data": {
      "text/plain": [
       "(3557, 7)"
      ]
     },
     "execution_count": 134,
     "metadata": {},
     "output_type": "execute_result"
    }
   ],
   "source": [
    "df3.shape"
   ]
  },
  {
   "cell_type": "code",
   "execution_count": 138,
   "id": "96a6c2e8-8281-4b87-af59-00d2617265ee",
   "metadata": {},
   "outputs": [
    {
     "name": "stderr",
     "output_type": "stream",
     "text": [
      "C:\\Users\\Chris Jindu\\AppData\\Local\\Temp\\ipykernel_12696\\628002784.py:9: SettingWithCopyWarning: \n",
      "A value is trying to be set on a copy of a slice from a DataFrame.\n",
      "Try using .loc[row_indexer,col_indexer] = value instead\n",
      "\n",
      "See the caveats in the documentation: https://pandas.pydata.org/pandas-docs/stable/user_guide/indexing.html#returning-a-view-versus-a-copy\n",
      "  df3['Age'] = current_year - df3['Year of manufacture']\n"
     ]
    }
   ],
   "source": [
    "# To add a new Column that will help the model better understand the dataset\n",
    "\n",
    "from datetime import datetime\n",
    "\n",
    "# Get the current year\n",
    "current_year = datetime.now().year\n",
    "\n",
    "# Create the Age column\n",
    "df3['Age'] = current_year - df3['Year of manufacture']\n"
   ]
  },
  {
   "cell_type": "code",
   "execution_count": 145,
   "id": "82cc8234-44f8-46d2-a2ec-1764829c5769",
   "metadata": {},
   "outputs": [],
   "source": [
    "df3 = df3.drop('Year of manufacture', axis = 'columns')"
   ]
  },
  {
   "cell_type": "code",
   "execution_count": 155,
   "id": "8bdd6cb7-dcea-4e61-b5be-12aecf698899",
   "metadata": {},
   "outputs": [
    {
     "data": {
      "text/html": [
       "<div>\n",
       "<style scoped>\n",
       "    .dataframe tbody tr th:only-of-type {\n",
       "        vertical-align: middle;\n",
       "    }\n",
       "\n",
       "    .dataframe tbody tr th {\n",
       "        vertical-align: top;\n",
       "    }\n",
       "\n",
       "    .dataframe thead th {\n",
       "        text-align: right;\n",
       "    }\n",
       "</style>\n",
       "<table border=\"1\" class=\"dataframe\">\n",
       "  <thead>\n",
       "    <tr style=\"text-align: right;\">\n",
       "      <th></th>\n",
       "      <th>Price</th>\n",
       "      <th>Make</th>\n",
       "      <th>Model</th>\n",
       "      <th>Condition</th>\n",
       "      <th>Engine Size</th>\n",
       "      <th>Horse Power</th>\n",
       "      <th>Age</th>\n",
       "    </tr>\n",
       "  </thead>\n",
       "  <tbody>\n",
       "    <tr>\n",
       "      <th>0</th>\n",
       "      <td>2812500</td>\n",
       "      <td>Toyota</td>\n",
       "      <td>Corolla</td>\n",
       "      <td>Nigerian Used</td>\n",
       "      <td>1.8</td>\n",
       "      <td>208.831788</td>\n",
       "      <td>21</td>\n",
       "    </tr>\n",
       "    <tr>\n",
       "      <th>1</th>\n",
       "      <td>5000000</td>\n",
       "      <td>Acura</td>\n",
       "      <td>MDX</td>\n",
       "      <td>Foreign Used</td>\n",
       "      <td>3.7</td>\n",
       "      <td>208.831788</td>\n",
       "      <td>18</td>\n",
       "    </tr>\n",
       "  </tbody>\n",
       "</table>\n",
       "</div>"
      ],
      "text/plain": [
       "     Price    Make    Model      Condition  Engine Size  Horse Power  Age\n",
       "0  2812500  Toyota  Corolla  Nigerian Used          1.8   208.831788   21\n",
       "1  5000000   Acura      MDX   Foreign Used          3.7   208.831788   18"
      ]
     },
     "execution_count": 155,
     "metadata": {},
     "output_type": "execute_result"
    }
   ],
   "source": [
    "df3.head(2)"
   ]
  },
  {
   "cell_type": "code",
   "execution_count": 166,
   "id": "b36dd5f2-1a02-46c2-ae88-94dd7edbabd6",
   "metadata": {},
   "outputs": [],
   "source": [
    "df4 = df3.copy()"
   ]
  },
  {
   "cell_type": "code",
   "execution_count": 167,
   "id": "c4e23895-438a-4c2a-9543-388bf9416080",
   "metadata": {},
   "outputs": [],
   "source": [
    "# One-hot encode the categorical columns\n",
    "df_encoded = pd.get_dummies(df4, columns=['Make', 'Model', 'Condition'], drop_first=True)\n",
    "\n",
    "# Convert all boolean columns to int (0 or 1)\n",
    "bool_cols = df_encoded.select_dtypes(include='bool').columns\n",
    "df_encoded[bool_cols] = df_encoded[bool_cols].astype(int)"
   ]
  },
  {
   "cell_type": "code",
   "execution_count": 168,
   "id": "b4dcad8b-9204-4dcb-aa50-cec9a6895a09",
   "metadata": {},
   "outputs": [
    {
     "data": {
      "text/html": [
       "<div>\n",
       "<style scoped>\n",
       "    .dataframe tbody tr th:only-of-type {\n",
       "        vertical-align: middle;\n",
       "    }\n",
       "\n",
       "    .dataframe tbody tr th {\n",
       "        vertical-align: top;\n",
       "    }\n",
       "\n",
       "    .dataframe thead th {\n",
       "        text-align: right;\n",
       "    }\n",
       "</style>\n",
       "<table border=\"1\" class=\"dataframe\">\n",
       "  <thead>\n",
       "    <tr style=\"text-align: right;\">\n",
       "      <th></th>\n",
       "      <th>Price</th>\n",
       "      <th>Engine Size</th>\n",
       "      <th>Horse Power</th>\n",
       "      <th>Age</th>\n",
       "      <th>Make_BMW</th>\n",
       "      <th>Make_Ford</th>\n",
       "      <th>Make_Honda</th>\n",
       "      <th>Make_Hyundai</th>\n",
       "      <th>Make_Kia</th>\n",
       "      <th>Make_Lexus</th>\n",
       "      <th>...</th>\n",
       "      <th>Model_XJ</th>\n",
       "      <th>Model_Xterra</th>\n",
       "      <th>Model_Yaris</th>\n",
       "      <th>Model_Yukon</th>\n",
       "      <th>Model_ZDX</th>\n",
       "      <th>Model_Zafira</th>\n",
       "      <th>Model_tC</th>\n",
       "      <th>Model_xB</th>\n",
       "      <th>Condition_Foreign Used</th>\n",
       "      <th>Condition_Nigerian Used</th>\n",
       "    </tr>\n",
       "  </thead>\n",
       "  <tbody>\n",
       "    <tr>\n",
       "      <th>0</th>\n",
       "      <td>2812500</td>\n",
       "      <td>1.8</td>\n",
       "      <td>208.831788</td>\n",
       "      <td>21</td>\n",
       "      <td>0</td>\n",
       "      <td>0</td>\n",
       "      <td>0</td>\n",
       "      <td>0</td>\n",
       "      <td>0</td>\n",
       "      <td>0</td>\n",
       "      <td>...</td>\n",
       "      <td>0</td>\n",
       "      <td>0</td>\n",
       "      <td>0</td>\n",
       "      <td>0</td>\n",
       "      <td>0</td>\n",
       "      <td>0</td>\n",
       "      <td>0</td>\n",
       "      <td>0</td>\n",
       "      <td>0</td>\n",
       "      <td>1</td>\n",
       "    </tr>\n",
       "    <tr>\n",
       "      <th>1</th>\n",
       "      <td>5000000</td>\n",
       "      <td>3.7</td>\n",
       "      <td>208.831788</td>\n",
       "      <td>18</td>\n",
       "      <td>0</td>\n",
       "      <td>0</td>\n",
       "      <td>0</td>\n",
       "      <td>0</td>\n",
       "      <td>0</td>\n",
       "      <td>0</td>\n",
       "      <td>...</td>\n",
       "      <td>0</td>\n",
       "      <td>0</td>\n",
       "      <td>0</td>\n",
       "      <td>0</td>\n",
       "      <td>0</td>\n",
       "      <td>0</td>\n",
       "      <td>0</td>\n",
       "      <td>0</td>\n",
       "      <td>1</td>\n",
       "      <td>0</td>\n",
       "    </tr>\n",
       "    <tr>\n",
       "      <th>2</th>\n",
       "      <td>7592000</td>\n",
       "      <td>3.5</td>\n",
       "      <td>309.000000</td>\n",
       "      <td>13</td>\n",
       "      <td>0</td>\n",
       "      <td>0</td>\n",
       "      <td>0</td>\n",
       "      <td>0</td>\n",
       "      <td>0</td>\n",
       "      <td>0</td>\n",
       "      <td>...</td>\n",
       "      <td>0</td>\n",
       "      <td>0</td>\n",
       "      <td>0</td>\n",
       "      <td>0</td>\n",
       "      <td>0</td>\n",
       "      <td>0</td>\n",
       "      <td>0</td>\n",
       "      <td>0</td>\n",
       "      <td>1</td>\n",
       "      <td>0</td>\n",
       "    </tr>\n",
       "    <tr>\n",
       "      <th>3</th>\n",
       "      <td>9880000</td>\n",
       "      <td>4.0</td>\n",
       "      <td>208.831788</td>\n",
       "      <td>13</td>\n",
       "      <td>0</td>\n",
       "      <td>0</td>\n",
       "      <td>0</td>\n",
       "      <td>0</td>\n",
       "      <td>0</td>\n",
       "      <td>0</td>\n",
       "      <td>...</td>\n",
       "      <td>0</td>\n",
       "      <td>0</td>\n",
       "      <td>0</td>\n",
       "      <td>0</td>\n",
       "      <td>0</td>\n",
       "      <td>0</td>\n",
       "      <td>0</td>\n",
       "      <td>0</td>\n",
       "      <td>0</td>\n",
       "      <td>1</td>\n",
       "    </tr>\n",
       "    <tr>\n",
       "      <th>4</th>\n",
       "      <td>4160000</td>\n",
       "      <td>3.5</td>\n",
       "      <td>208.831788</td>\n",
       "      <td>12</td>\n",
       "      <td>0</td>\n",
       "      <td>1</td>\n",
       "      <td>0</td>\n",
       "      <td>0</td>\n",
       "      <td>0</td>\n",
       "      <td>0</td>\n",
       "      <td>...</td>\n",
       "      <td>0</td>\n",
       "      <td>0</td>\n",
       "      <td>0</td>\n",
       "      <td>0</td>\n",
       "      <td>0</td>\n",
       "      <td>0</td>\n",
       "      <td>0</td>\n",
       "      <td>0</td>\n",
       "      <td>0</td>\n",
       "      <td>1</td>\n",
       "    </tr>\n",
       "  </tbody>\n",
       "</table>\n",
       "<p>5 rows × 338 columns</p>\n",
       "</div>"
      ],
      "text/plain": [
       "     Price  Engine Size  Horse Power  Age  Make_BMW  Make_Ford  Make_Honda  \\\n",
       "0  2812500          1.8   208.831788   21         0          0           0   \n",
       "1  5000000          3.7   208.831788   18         0          0           0   \n",
       "2  7592000          3.5   309.000000   13         0          0           0   \n",
       "3  9880000          4.0   208.831788   13         0          0           0   \n",
       "4  4160000          3.5   208.831788   12         0          1           0   \n",
       "\n",
       "   Make_Hyundai  Make_Kia  Make_Lexus  ...  Model_XJ  Model_Xterra  \\\n",
       "0             0         0           0  ...         0             0   \n",
       "1             0         0           0  ...         0             0   \n",
       "2             0         0           0  ...         0             0   \n",
       "3             0         0           0  ...         0             0   \n",
       "4             0         0           0  ...         0             0   \n",
       "\n",
       "   Model_Yaris  Model_Yukon  Model_ZDX  Model_Zafira  Model_tC  Model_xB  \\\n",
       "0            0            0          0             0         0         0   \n",
       "1            0            0          0             0         0         0   \n",
       "2            0            0          0             0         0         0   \n",
       "3            0            0          0             0         0         0   \n",
       "4            0            0          0             0         0         0   \n",
       "\n",
       "   Condition_Foreign Used  Condition_Nigerian Used  \n",
       "0                       0                        1  \n",
       "1                       1                        0  \n",
       "2                       1                        0  \n",
       "3                       0                        1  \n",
       "4                       0                        1  \n",
       "\n",
       "[5 rows x 338 columns]"
      ]
     },
     "execution_count": 168,
     "metadata": {},
     "output_type": "execute_result"
    }
   ],
   "source": [
    "df_encoded.head(5)"
   ]
  },
  {
   "cell_type": "markdown",
   "id": "e1561e38-c772-4ca4-8c87-6a17b421bcf3",
   "metadata": {},
   "source": [
    "### Modeling the Dataset\n",
    "\n",
    "#### We are using df_encoded"
   ]
  },
  {
   "cell_type": "code",
   "execution_count": 169,
   "id": "8f783595-f747-4631-8712-b4a56b9f6392",
   "metadata": {},
   "outputs": [
    {
     "data": {
      "text/html": [
       "<div>\n",
       "<style scoped>\n",
       "    .dataframe tbody tr th:only-of-type {\n",
       "        vertical-align: middle;\n",
       "    }\n",
       "\n",
       "    .dataframe tbody tr th {\n",
       "        vertical-align: top;\n",
       "    }\n",
       "\n",
       "    .dataframe thead th {\n",
       "        text-align: right;\n",
       "    }\n",
       "</style>\n",
       "<table border=\"1\" class=\"dataframe\">\n",
       "  <thead>\n",
       "    <tr style=\"text-align: right;\">\n",
       "      <th></th>\n",
       "      <th>Price</th>\n",
       "      <th>Engine Size</th>\n",
       "      <th>Horse Power</th>\n",
       "      <th>Age</th>\n",
       "      <th>Make_BMW</th>\n",
       "      <th>Make_Ford</th>\n",
       "      <th>Make_Honda</th>\n",
       "      <th>Make_Hyundai</th>\n",
       "      <th>Make_Kia</th>\n",
       "      <th>Make_Lexus</th>\n",
       "      <th>...</th>\n",
       "      <th>Model_XJ</th>\n",
       "      <th>Model_Xterra</th>\n",
       "      <th>Model_Yaris</th>\n",
       "      <th>Model_Yukon</th>\n",
       "      <th>Model_ZDX</th>\n",
       "      <th>Model_Zafira</th>\n",
       "      <th>Model_tC</th>\n",
       "      <th>Model_xB</th>\n",
       "      <th>Condition_Foreign Used</th>\n",
       "      <th>Condition_Nigerian Used</th>\n",
       "    </tr>\n",
       "  </thead>\n",
       "  <tbody>\n",
       "    <tr>\n",
       "      <th>0</th>\n",
       "      <td>2812500</td>\n",
       "      <td>1.8</td>\n",
       "      <td>208.831788</td>\n",
       "      <td>21</td>\n",
       "      <td>0</td>\n",
       "      <td>0</td>\n",
       "      <td>0</td>\n",
       "      <td>0</td>\n",
       "      <td>0</td>\n",
       "      <td>0</td>\n",
       "      <td>...</td>\n",
       "      <td>0</td>\n",
       "      <td>0</td>\n",
       "      <td>0</td>\n",
       "      <td>0</td>\n",
       "      <td>0</td>\n",
       "      <td>0</td>\n",
       "      <td>0</td>\n",
       "      <td>0</td>\n",
       "      <td>0</td>\n",
       "      <td>1</td>\n",
       "    </tr>\n",
       "    <tr>\n",
       "      <th>1</th>\n",
       "      <td>5000000</td>\n",
       "      <td>3.7</td>\n",
       "      <td>208.831788</td>\n",
       "      <td>18</td>\n",
       "      <td>0</td>\n",
       "      <td>0</td>\n",
       "      <td>0</td>\n",
       "      <td>0</td>\n",
       "      <td>0</td>\n",
       "      <td>0</td>\n",
       "      <td>...</td>\n",
       "      <td>0</td>\n",
       "      <td>0</td>\n",
       "      <td>0</td>\n",
       "      <td>0</td>\n",
       "      <td>0</td>\n",
       "      <td>0</td>\n",
       "      <td>0</td>\n",
       "      <td>0</td>\n",
       "      <td>1</td>\n",
       "      <td>0</td>\n",
       "    </tr>\n",
       "    <tr>\n",
       "      <th>2</th>\n",
       "      <td>7592000</td>\n",
       "      <td>3.5</td>\n",
       "      <td>309.000000</td>\n",
       "      <td>13</td>\n",
       "      <td>0</td>\n",
       "      <td>0</td>\n",
       "      <td>0</td>\n",
       "      <td>0</td>\n",
       "      <td>0</td>\n",
       "      <td>0</td>\n",
       "      <td>...</td>\n",
       "      <td>0</td>\n",
       "      <td>0</td>\n",
       "      <td>0</td>\n",
       "      <td>0</td>\n",
       "      <td>0</td>\n",
       "      <td>0</td>\n",
       "      <td>0</td>\n",
       "      <td>0</td>\n",
       "      <td>1</td>\n",
       "      <td>0</td>\n",
       "    </tr>\n",
       "    <tr>\n",
       "      <th>3</th>\n",
       "      <td>9880000</td>\n",
       "      <td>4.0</td>\n",
       "      <td>208.831788</td>\n",
       "      <td>13</td>\n",
       "      <td>0</td>\n",
       "      <td>0</td>\n",
       "      <td>0</td>\n",
       "      <td>0</td>\n",
       "      <td>0</td>\n",
       "      <td>0</td>\n",
       "      <td>...</td>\n",
       "      <td>0</td>\n",
       "      <td>0</td>\n",
       "      <td>0</td>\n",
       "      <td>0</td>\n",
       "      <td>0</td>\n",
       "      <td>0</td>\n",
       "      <td>0</td>\n",
       "      <td>0</td>\n",
       "      <td>0</td>\n",
       "      <td>1</td>\n",
       "    </tr>\n",
       "    <tr>\n",
       "      <th>4</th>\n",
       "      <td>4160000</td>\n",
       "      <td>3.5</td>\n",
       "      <td>208.831788</td>\n",
       "      <td>12</td>\n",
       "      <td>0</td>\n",
       "      <td>1</td>\n",
       "      <td>0</td>\n",
       "      <td>0</td>\n",
       "      <td>0</td>\n",
       "      <td>0</td>\n",
       "      <td>...</td>\n",
       "      <td>0</td>\n",
       "      <td>0</td>\n",
       "      <td>0</td>\n",
       "      <td>0</td>\n",
       "      <td>0</td>\n",
       "      <td>0</td>\n",
       "      <td>0</td>\n",
       "      <td>0</td>\n",
       "      <td>0</td>\n",
       "      <td>1</td>\n",
       "    </tr>\n",
       "  </tbody>\n",
       "</table>\n",
       "<p>5 rows × 338 columns</p>\n",
       "</div>"
      ],
      "text/plain": [
       "     Price  Engine Size  Horse Power  Age  Make_BMW  Make_Ford  Make_Honda  \\\n",
       "0  2812500          1.8   208.831788   21         0          0           0   \n",
       "1  5000000          3.7   208.831788   18         0          0           0   \n",
       "2  7592000          3.5   309.000000   13         0          0           0   \n",
       "3  9880000          4.0   208.831788   13         0          0           0   \n",
       "4  4160000          3.5   208.831788   12         0          1           0   \n",
       "\n",
       "   Make_Hyundai  Make_Kia  Make_Lexus  ...  Model_XJ  Model_Xterra  \\\n",
       "0             0         0           0  ...         0             0   \n",
       "1             0         0           0  ...         0             0   \n",
       "2             0         0           0  ...         0             0   \n",
       "3             0         0           0  ...         0             0   \n",
       "4             0         0           0  ...         0             0   \n",
       "\n",
       "   Model_Yaris  Model_Yukon  Model_ZDX  Model_Zafira  Model_tC  Model_xB  \\\n",
       "0            0            0          0             0         0         0   \n",
       "1            0            0          0             0         0         0   \n",
       "2            0            0          0             0         0         0   \n",
       "3            0            0          0             0         0         0   \n",
       "4            0            0          0             0         0         0   \n",
       "\n",
       "   Condition_Foreign Used  Condition_Nigerian Used  \n",
       "0                       0                        1  \n",
       "1                       1                        0  \n",
       "2                       1                        0  \n",
       "3                       0                        1  \n",
       "4                       0                        1  \n",
       "\n",
       "[5 rows x 338 columns]"
      ]
     },
     "execution_count": 169,
     "metadata": {},
     "output_type": "execute_result"
    }
   ],
   "source": [
    "df_encoded.head(5)"
   ]
  },
  {
   "cell_type": "code",
   "execution_count": 148,
   "id": "683bf134-df2b-443d-a3ef-b271e9e58991",
   "metadata": {},
   "outputs": [],
   "source": [
    "from sklearn.model_selection import train_test_split"
   ]
  },
  {
   "cell_type": "code",
   "execution_count": 171,
   "id": "0b767069-e4e0-4bf0-8c0b-061fc2d4d6e9",
   "metadata": {},
   "outputs": [],
   "source": [
    "X = df_encoded.drop('Price', axis = 'columns')\n",
    "\n",
    "y = df_encoded['Price']"
   ]
  },
  {
   "cell_type": "code",
   "execution_count": 187,
   "id": "ad8fe04f-5631-4e75-9aa5-1a1ae804c6f2",
   "metadata": {},
   "outputs": [],
   "source": [
    "X_train, X_test, y_train, y_test = train_test_split(X,y, test_size = 0.2, random_state = 10)"
   ]
  },
  {
   "cell_type": "code",
   "execution_count": 178,
   "id": "0d95b23e-5a15-452f-914d-8ca59e0ef382",
   "metadata": {},
   "outputs": [],
   "source": [
    "from sklearn.linear_model import LinearRegression\n",
    "\n",
    "LR = LinearRegression()"
   ]
  },
  {
   "cell_type": "code",
   "execution_count": 188,
   "id": "93e9bc11-5477-46b4-aa46-6a6bcd4cc143",
   "metadata": {},
   "outputs": [
    {
     "data": {
      "text/plain": [
       "0.5786437516482956"
      ]
     },
     "execution_count": 188,
     "metadata": {},
     "output_type": "execute_result"
    }
   ],
   "source": [
    "LR.fit(X_train, y_train)\n",
    "LR.score(X_test, y_test)"
   ]
  },
  {
   "cell_type": "code",
   "execution_count": 175,
   "id": "80cbefe2-db72-4469-a684-7a119e82a189",
   "metadata": {},
   "outputs": [
    {
     "data": {
      "text/plain": [
       "array([-7.28289660e+17, -8.93920944e+17, -7.20243640e+16, -4.88148552e+17,\n",
       "       -3.26169423e+17])"
      ]
     },
     "execution_count": 175,
     "metadata": {},
     "output_type": "execute_result"
    }
   ],
   "source": [
    "from sklearn.model_selection import ShuffleSplit\n",
    "from sklearn.model_selection import cross_val_score\n",
    "\n",
    "cv = ShuffleSplit(n_splits=5, test_size=0.2, random_state = 0)\n",
    "\n",
    "cross_val_score(LinearRegression(), X, y, cv = cv)"
   ]
  },
  {
   "cell_type": "code",
   "execution_count": 189,
   "id": "1994d4de-7ee7-4b0f-9fb8-321b75d16b26",
   "metadata": {},
   "outputs": [
    {
     "data": {
      "text/html": [
       "<style>#sk-container-id-1 {color: black;background-color: white;}#sk-container-id-1 pre{padding: 0;}#sk-container-id-1 div.sk-toggleable {background-color: white;}#sk-container-id-1 label.sk-toggleable__label {cursor: pointer;display: block;width: 100%;margin-bottom: 0;padding: 0.3em;box-sizing: border-box;text-align: center;}#sk-container-id-1 label.sk-toggleable__label-arrow:before {content: \"▸\";float: left;margin-right: 0.25em;color: #696969;}#sk-container-id-1 label.sk-toggleable__label-arrow:hover:before {color: black;}#sk-container-id-1 div.sk-estimator:hover label.sk-toggleable__label-arrow:before {color: black;}#sk-container-id-1 div.sk-toggleable__content {max-height: 0;max-width: 0;overflow: hidden;text-align: left;background-color: #f0f8ff;}#sk-container-id-1 div.sk-toggleable__content pre {margin: 0.2em;color: black;border-radius: 0.25em;background-color: #f0f8ff;}#sk-container-id-1 input.sk-toggleable__control:checked~div.sk-toggleable__content {max-height: 200px;max-width: 100%;overflow: auto;}#sk-container-id-1 input.sk-toggleable__control:checked~label.sk-toggleable__label-arrow:before {content: \"▾\";}#sk-container-id-1 div.sk-estimator input.sk-toggleable__control:checked~label.sk-toggleable__label {background-color: #d4ebff;}#sk-container-id-1 div.sk-label input.sk-toggleable__control:checked~label.sk-toggleable__label {background-color: #d4ebff;}#sk-container-id-1 input.sk-hidden--visually {border: 0;clip: rect(1px 1px 1px 1px);clip: rect(1px, 1px, 1px, 1px);height: 1px;margin: -1px;overflow: hidden;padding: 0;position: absolute;width: 1px;}#sk-container-id-1 div.sk-estimator {font-family: monospace;background-color: #f0f8ff;border: 1px dotted black;border-radius: 0.25em;box-sizing: border-box;margin-bottom: 0.5em;}#sk-container-id-1 div.sk-estimator:hover {background-color: #d4ebff;}#sk-container-id-1 div.sk-parallel-item::after {content: \"\";width: 100%;border-bottom: 1px solid gray;flex-grow: 1;}#sk-container-id-1 div.sk-label:hover label.sk-toggleable__label {background-color: #d4ebff;}#sk-container-id-1 div.sk-serial::before {content: \"\";position: absolute;border-left: 1px solid gray;box-sizing: border-box;top: 0;bottom: 0;left: 50%;z-index: 0;}#sk-container-id-1 div.sk-serial {display: flex;flex-direction: column;align-items: center;background-color: white;padding-right: 0.2em;padding-left: 0.2em;position: relative;}#sk-container-id-1 div.sk-item {position: relative;z-index: 1;}#sk-container-id-1 div.sk-parallel {display: flex;align-items: stretch;justify-content: center;background-color: white;position: relative;}#sk-container-id-1 div.sk-item::before, #sk-container-id-1 div.sk-parallel-item::before {content: \"\";position: absolute;border-left: 1px solid gray;box-sizing: border-box;top: 0;bottom: 0;left: 50%;z-index: -1;}#sk-container-id-1 div.sk-parallel-item {display: flex;flex-direction: column;z-index: 1;position: relative;background-color: white;}#sk-container-id-1 div.sk-parallel-item:first-child::after {align-self: flex-end;width: 50%;}#sk-container-id-1 div.sk-parallel-item:last-child::after {align-self: flex-start;width: 50%;}#sk-container-id-1 div.sk-parallel-item:only-child::after {width: 0;}#sk-container-id-1 div.sk-dashed-wrapped {border: 1px dashed gray;margin: 0 0.4em 0.5em 0.4em;box-sizing: border-box;padding-bottom: 0.4em;background-color: white;}#sk-container-id-1 div.sk-label label {font-family: monospace;font-weight: bold;display: inline-block;line-height: 1.2em;}#sk-container-id-1 div.sk-label-container {text-align: center;}#sk-container-id-1 div.sk-container {/* jupyter's `normalize.less` sets `[hidden] { display: none; }` but bootstrap.min.css set `[hidden] { display: none !important; }` so we also need the `!important` here to be able to override the default hidden behavior on the sphinx rendered scikit-learn.org. See: https://github.com/scikit-learn/scikit-learn/issues/21755 */display: inline-block !important;position: relative;}#sk-container-id-1 div.sk-text-repr-fallback {display: none;}</style><div id=\"sk-container-id-1\" class=\"sk-top-container\"><div class=\"sk-text-repr-fallback\"><pre>RandomForestRegressor(random_state=42)</pre><b>In a Jupyter environment, please rerun this cell to show the HTML representation or trust the notebook. <br />On GitHub, the HTML representation is unable to render, please try loading this page with nbviewer.org.</b></div><div class=\"sk-container\" hidden><div class=\"sk-item\"><div class=\"sk-estimator sk-toggleable\"><input class=\"sk-toggleable__control sk-hidden--visually\" id=\"sk-estimator-id-1\" type=\"checkbox\" checked><label for=\"sk-estimator-id-1\" class=\"sk-toggleable__label sk-toggleable__label-arrow\">RandomForestRegressor</label><div class=\"sk-toggleable__content\"><pre>RandomForestRegressor(random_state=42)</pre></div></div></div></div></div>"
      ],
      "text/plain": [
       "RandomForestRegressor(random_state=42)"
      ]
     },
     "execution_count": 189,
     "metadata": {},
     "output_type": "execute_result"
    }
   ],
   "source": [
    "from sklearn.ensemble import RandomForestRegressor\n",
    "\n",
    "model = RandomForestRegressor(random_state=42)\n",
    "model.fit(X_train, y_train)\n"
   ]
  },
  {
   "cell_type": "code",
   "execution_count": 190,
   "id": "76d484cf-bafa-44cb-9e70-46733cda307f",
   "metadata": {},
   "outputs": [
    {
     "data": {
      "text/plain": [
       "0.7669104442662316"
      ]
     },
     "execution_count": 190,
     "metadata": {},
     "output_type": "execute_result"
    }
   ],
   "source": [
    "model.score(X_test, y_test)"
   ]
  },
  {
   "cell_type": "code",
   "execution_count": 193,
   "id": "5db8cb59-41df-4999-a7ef-249499b4e6fa",
   "metadata": {},
   "outputs": [
    {
     "data": {
      "text/plain": [
       "0.7584660444816044"
      ]
     },
     "execution_count": 193,
     "metadata": {},
     "output_type": "execute_result"
    }
   ],
   "source": [
    "from xgboost import XGBRegressor\n",
    "\n",
    "model_2 = XGBRegressor(random_state=42)\n",
    "model_2.fit(X_train, y_train)\n",
    "model_2.score(X_test, y_test)\n"
   ]
  },
  {
   "cell_type": "code",
   "execution_count": 194,
   "id": "93eb3e2e-a859-4539-b39c-8b97f7b2022e",
   "metadata": {},
   "outputs": [
    {
     "name": "stdout",
     "output_type": "stream",
     "text": [
      "Fitting 5 folds for each of 36 candidates, totalling 180 fits\n",
      "Best R² Score: 0.7238146771226411\n",
      "Best Parameters: {'max_depth': None, 'min_samples_leaf': 1, 'min_samples_split': 2, 'n_estimators': 200}\n"
     ]
    }
   ],
   "source": [
    "from sklearn.ensemble import RandomForestRegressor\n",
    "from sklearn.model_selection import GridSearchCV\n",
    "\n",
    "# Set the model\n",
    "rf = RandomForestRegressor(random_state=42)\n",
    "\n",
    "# Define parameter grid\n",
    "param_grid = {\n",
    "    'n_estimators': [100, 200, 300],\n",
    "    'max_depth': [None, 10, 20],\n",
    "    'min_samples_split': [2, 5],\n",
    "    'min_samples_leaf': [1, 2]\n",
    "}\n",
    "\n",
    "# Create GridSearchCV object\n",
    "grid_search = GridSearchCV(\n",
    "    estimator=rf,\n",
    "    param_grid=param_grid,\n",
    "    cv=5,                # 5-fold cross-validation\n",
    "    scoring='r2',        # Use R² score\n",
    "    n_jobs=-1,           # Use all CPU cores\n",
    "    verbose=2\n",
    ")\n",
    "\n",
    "# Fit to training data\n",
    "grid_search.fit(X_train, y_train)\n",
    "\n",
    "# Best model and parameters\n",
    "print(\"Best R² Score:\", grid_search.best_score_)\n",
    "print(\"Best Parameters:\", grid_search.best_params_)\n",
    "\n",
    "# Use the best model to predict\n",
    "best_model = grid_search.best_estimator_\n",
    "y_pred = best_model.predict(X_test)\n"
   ]
  },
  {
   "cell_type": "code",
   "execution_count": 195,
   "id": "83ce33f4-ce37-439e-81ed-26d2e226b631",
   "metadata": {},
   "outputs": [
    {
     "name": "stdout",
     "output_type": "stream",
     "text": [
      "Fitting 5 folds for each of 36 candidates, totalling 180 fits\n",
      "Best R² Score (XGB): 0.76989204332342\n",
      "Best Parameters (XGB): {'learning_rate': 0.2, 'max_depth': 5, 'n_estimators': 200, 'subsample': 0.8}\n"
     ]
    }
   ],
   "source": [
    "from xgboost import XGBRegressor\n",
    "from sklearn.model_selection import GridSearchCV\n",
    "\n",
    "# Set the base model\n",
    "xgb = XGBRegressor(random_state=42, objective='reg:squarederror')\n",
    "\n",
    "# Define parameter grid\n",
    "param_grid = {\n",
    "    'n_estimators': [100, 200],\n",
    "    'max_depth': [3, 5, 7],\n",
    "    'learning_rate': [0.05, 0.1, 0.2],\n",
    "    'subsample': [0.8, 1.0]\n",
    "}\n",
    "\n",
    "# Create GridSearchCV object\n",
    "grid_search_xgb = GridSearchCV(\n",
    "    estimator=xgb,\n",
    "    param_grid=param_grid,\n",
    "    cv=5,                # 5-fold CV\n",
    "    scoring='r2',        # R² as the metric\n",
    "    n_jobs=-1,\n",
    "    verbose=2\n",
    ")\n",
    "\n",
    "# Fit to training data\n",
    "grid_search_xgb.fit(X_train, y_train)\n",
    "\n",
    "# Best results\n",
    "print(\"Best R² Score (XGB):\", grid_search_xgb.best_score_)\n",
    "print(\"Best Parameters (XGB):\", grid_search_xgb.best_params_)\n",
    "\n",
    "# Use the best model\n",
    "best_xgb_model = grid_search_xgb.best_estimator_\n",
    "y_pred_xgb = best_xgb_model.predict(X_test)\n"
   ]
  },
  {
   "cell_type": "code",
   "execution_count": 198,
   "id": "93aab815-ef05-4585-a1f6-20ab772d33e5",
   "metadata": {},
   "outputs": [],
   "source": [
    "bxm = best_xgb_model"
   ]
  },
  {
   "cell_type": "code",
   "execution_count": 199,
   "id": "a56cbab2-aae4-4737-9729-77d77f07b91d",
   "metadata": {},
   "outputs": [
    {
     "data": {
      "text/plain": [
       "0.7875355681865648"
      ]
     },
     "execution_count": 199,
     "metadata": {},
     "output_type": "execute_result"
    }
   ],
   "source": [
    "bxm.score(X_test,y_test)"
   ]
  },
  {
   "cell_type": "markdown",
   "id": "8db9f362-b4c1-4233-96e1-f77c86f7ed99",
   "metadata": {},
   "source": [
    "#### Time to build our Predictive Model"
   ]
  },
  {
   "cell_type": "code",
   "execution_count": null,
   "id": "26a3a096-e0fa-43a6-93fc-ad7f4d6b01bf",
   "metadata": {},
   "outputs": [],
   "source": []
  },
  {
   "cell_type": "code",
   "execution_count": 211,
   "id": "27ce3816-9743-4026-8d67-de439cb437ee",
   "metadata": {},
   "outputs": [
    {
     "data": {
      "text/plain": [
       "Index(['Engine Size', 'Horse Power', 'Age', 'Make_BMW', 'Make_Ford',\n",
       "       'Make_Honda', 'Make_Hyundai', 'Make_Kia', 'Make_Lexus', 'Make_Mazda',\n",
       "       ...\n",
       "       'Model_XJ', 'Model_Xterra', 'Model_Yaris', 'Model_Yukon', 'Model_ZDX',\n",
       "       'Model_Zafira', 'Model_tC', 'Model_xB', 'Condition_Foreign Used',\n",
       "       'Condition_Nigerian Used'],\n",
       "      dtype='object', length=337)"
      ]
     },
     "execution_count": 211,
     "metadata": {},
     "output_type": "execute_result"
    }
   ],
   "source": [
    "X.columns"
   ]
  },
  {
   "cell_type": "code",
   "execution_count": 217,
   "id": "d525ce34-f3d8-4b6d-87d6-1987350f6afb",
   "metadata": {},
   "outputs": [
    {
     "data": {
      "text/html": [
       "<div>\n",
       "<style scoped>\n",
       "    .dataframe tbody tr th:only-of-type {\n",
       "        vertical-align: middle;\n",
       "    }\n",
       "\n",
       "    .dataframe tbody tr th {\n",
       "        vertical-align: top;\n",
       "    }\n",
       "\n",
       "    .dataframe thead th {\n",
       "        text-align: right;\n",
       "    }\n",
       "</style>\n",
       "<table border=\"1\" class=\"dataframe\">\n",
       "  <thead>\n",
       "    <tr style=\"text-align: right;\">\n",
       "      <th></th>\n",
       "      <th>Price</th>\n",
       "      <th>Make</th>\n",
       "      <th>Model</th>\n",
       "      <th>Condition</th>\n",
       "      <th>Engine Size</th>\n",
       "      <th>Horse Power</th>\n",
       "      <th>Age</th>\n",
       "    </tr>\n",
       "  </thead>\n",
       "  <tbody>\n",
       "    <tr>\n",
       "      <th>0</th>\n",
       "      <td>2812500</td>\n",
       "      <td>Toyota</td>\n",
       "      <td>Corolla</td>\n",
       "      <td>Nigerian Used</td>\n",
       "      <td>1.8</td>\n",
       "      <td>208.831788</td>\n",
       "      <td>21</td>\n",
       "    </tr>\n",
       "    <tr>\n",
       "      <th>1</th>\n",
       "      <td>5000000</td>\n",
       "      <td>Acura</td>\n",
       "      <td>MDX</td>\n",
       "      <td>Foreign Used</td>\n",
       "      <td>3.7</td>\n",
       "      <td>208.831788</td>\n",
       "      <td>18</td>\n",
       "    </tr>\n",
       "    <tr>\n",
       "      <th>2</th>\n",
       "      <td>7592000</td>\n",
       "      <td>Acura</td>\n",
       "      <td>TL</td>\n",
       "      <td>Foreign Used</td>\n",
       "      <td>3.5</td>\n",
       "      <td>309.000000</td>\n",
       "      <td>13</td>\n",
       "    </tr>\n",
       "    <tr>\n",
       "      <th>3</th>\n",
       "      <td>9880000</td>\n",
       "      <td>Others</td>\n",
       "      <td>Range Rover</td>\n",
       "      <td>Nigerian Used</td>\n",
       "      <td>4.0</td>\n",
       "      <td>208.831788</td>\n",
       "      <td>13</td>\n",
       "    </tr>\n",
       "    <tr>\n",
       "      <th>4</th>\n",
       "      <td>4160000</td>\n",
       "      <td>Ford</td>\n",
       "      <td>Edge</td>\n",
       "      <td>Nigerian Used</td>\n",
       "      <td>3.5</td>\n",
       "      <td>208.831788</td>\n",
       "      <td>12</td>\n",
       "    </tr>\n",
       "    <tr>\n",
       "      <th>5</th>\n",
       "      <td>5250000</td>\n",
       "      <td>Acura</td>\n",
       "      <td>ZDX</td>\n",
       "      <td>Nigerian Used</td>\n",
       "      <td>3.7</td>\n",
       "      <td>208.831788</td>\n",
       "      <td>15</td>\n",
       "    </tr>\n",
       "    <tr>\n",
       "      <th>6</th>\n",
       "      <td>16640000</td>\n",
       "      <td>Lexus</td>\n",
       "      <td>GX</td>\n",
       "      <td>Nigerian Used</td>\n",
       "      <td>4.8</td>\n",
       "      <td>208.831788</td>\n",
       "      <td>14</td>\n",
       "    </tr>\n",
       "    <tr>\n",
       "      <th>7</th>\n",
       "      <td>7980000</td>\n",
       "      <td>Lexus</td>\n",
       "      <td>GS</td>\n",
       "      <td>Nigerian Used</td>\n",
       "      <td>3.5</td>\n",
       "      <td>318.000000</td>\n",
       "      <td>12</td>\n",
       "    </tr>\n",
       "    <tr>\n",
       "      <th>8</th>\n",
       "      <td>3885000</td>\n",
       "      <td>Toyota</td>\n",
       "      <td>Camry</td>\n",
       "      <td>Foreign Used</td>\n",
       "      <td>3.0</td>\n",
       "      <td>208.831788</td>\n",
       "      <td>18</td>\n",
       "    </tr>\n",
       "    <tr>\n",
       "      <th>9</th>\n",
       "      <td>13000000</td>\n",
       "      <td>Mercedes-Benz</td>\n",
       "      <td>GLK-Class</td>\n",
       "      <td>Foreign Used</td>\n",
       "      <td>3.5</td>\n",
       "      <td>208.831788</td>\n",
       "      <td>10</td>\n",
       "    </tr>\n",
       "  </tbody>\n",
       "</table>\n",
       "</div>"
      ],
      "text/plain": [
       "      Price           Make        Model      Condition  Engine Size  \\\n",
       "0   2812500         Toyota      Corolla  Nigerian Used          1.8   \n",
       "1   5000000          Acura          MDX   Foreign Used          3.7   \n",
       "2   7592000          Acura           TL   Foreign Used          3.5   \n",
       "3   9880000         Others  Range Rover  Nigerian Used          4.0   \n",
       "4   4160000           Ford         Edge  Nigerian Used          3.5   \n",
       "5   5250000          Acura          ZDX  Nigerian Used          3.7   \n",
       "6  16640000          Lexus           GX  Nigerian Used          4.8   \n",
       "7   7980000          Lexus           GS  Nigerian Used          3.5   \n",
       "8   3885000         Toyota        Camry   Foreign Used          3.0   \n",
       "9  13000000  Mercedes-Benz    GLK-Class   Foreign Used          3.5   \n",
       "\n",
       "   Horse Power  Age  \n",
       "0   208.831788   21  \n",
       "1   208.831788   18  \n",
       "2   309.000000   13  \n",
       "3   208.831788   13  \n",
       "4   208.831788   12  \n",
       "5   208.831788   15  \n",
       "6   208.831788   14  \n",
       "7   318.000000   12  \n",
       "8   208.831788   18  \n",
       "9   208.831788   10  "
      ]
     },
     "execution_count": 217,
     "metadata": {},
     "output_type": "execute_result"
    }
   ],
   "source": [
    "df3.head(10)"
   ]
  },
  {
   "cell_type": "code",
   "execution_count": 219,
   "id": "5f80e1b4-cd5e-4926-85fe-df7035cf0097",
   "metadata": {},
   "outputs": [
    {
     "data": {
      "text/html": [
       "<div>\n",
       "<style scoped>\n",
       "    .dataframe tbody tr th:only-of-type {\n",
       "        vertical-align: middle;\n",
       "    }\n",
       "\n",
       "    .dataframe tbody tr th {\n",
       "        vertical-align: top;\n",
       "    }\n",
       "\n",
       "    .dataframe thead th {\n",
       "        text-align: right;\n",
       "    }\n",
       "</style>\n",
       "<table border=\"1\" class=\"dataframe\">\n",
       "  <thead>\n",
       "    <tr style=\"text-align: right;\">\n",
       "      <th></th>\n",
       "      <th>Price</th>\n",
       "      <th>Engine Size</th>\n",
       "      <th>Horse Power</th>\n",
       "      <th>Age</th>\n",
       "      <th>Make_BMW</th>\n",
       "      <th>Make_Ford</th>\n",
       "      <th>Make_Honda</th>\n",
       "      <th>Make_Hyundai</th>\n",
       "      <th>Make_Kia</th>\n",
       "      <th>Make_Lexus</th>\n",
       "      <th>...</th>\n",
       "      <th>Model_XJ</th>\n",
       "      <th>Model_Xterra</th>\n",
       "      <th>Model_Yaris</th>\n",
       "      <th>Model_Yukon</th>\n",
       "      <th>Model_ZDX</th>\n",
       "      <th>Model_Zafira</th>\n",
       "      <th>Model_tC</th>\n",
       "      <th>Model_xB</th>\n",
       "      <th>Condition_Foreign Used</th>\n",
       "      <th>Condition_Nigerian Used</th>\n",
       "    </tr>\n",
       "  </thead>\n",
       "  <tbody>\n",
       "    <tr>\n",
       "      <th>0</th>\n",
       "      <td>2812500</td>\n",
       "      <td>1.8</td>\n",
       "      <td>208.831788</td>\n",
       "      <td>21</td>\n",
       "      <td>0</td>\n",
       "      <td>0</td>\n",
       "      <td>0</td>\n",
       "      <td>0</td>\n",
       "      <td>0</td>\n",
       "      <td>0</td>\n",
       "      <td>...</td>\n",
       "      <td>0</td>\n",
       "      <td>0</td>\n",
       "      <td>0</td>\n",
       "      <td>0</td>\n",
       "      <td>0</td>\n",
       "      <td>0</td>\n",
       "      <td>0</td>\n",
       "      <td>0</td>\n",
       "      <td>0</td>\n",
       "      <td>1</td>\n",
       "    </tr>\n",
       "    <tr>\n",
       "      <th>1</th>\n",
       "      <td>5000000</td>\n",
       "      <td>3.7</td>\n",
       "      <td>208.831788</td>\n",
       "      <td>18</td>\n",
       "      <td>0</td>\n",
       "      <td>0</td>\n",
       "      <td>0</td>\n",
       "      <td>0</td>\n",
       "      <td>0</td>\n",
       "      <td>0</td>\n",
       "      <td>...</td>\n",
       "      <td>0</td>\n",
       "      <td>0</td>\n",
       "      <td>0</td>\n",
       "      <td>0</td>\n",
       "      <td>0</td>\n",
       "      <td>0</td>\n",
       "      <td>0</td>\n",
       "      <td>0</td>\n",
       "      <td>1</td>\n",
       "      <td>0</td>\n",
       "    </tr>\n",
       "  </tbody>\n",
       "</table>\n",
       "<p>2 rows × 338 columns</p>\n",
       "</div>"
      ],
      "text/plain": [
       "     Price  Engine Size  Horse Power  Age  Make_BMW  Make_Ford  Make_Honda  \\\n",
       "0  2812500          1.8   208.831788   21         0          0           0   \n",
       "1  5000000          3.7   208.831788   18         0          0           0   \n",
       "\n",
       "   Make_Hyundai  Make_Kia  Make_Lexus  ...  Model_XJ  Model_Xterra  \\\n",
       "0             0         0           0  ...         0             0   \n",
       "1             0         0           0  ...         0             0   \n",
       "\n",
       "   Model_Yaris  Model_Yukon  Model_ZDX  Model_Zafira  Model_tC  Model_xB  \\\n",
       "0            0            0          0             0         0         0   \n",
       "1            0            0          0             0         0         0   \n",
       "\n",
       "   Condition_Foreign Used  Condition_Nigerian Used  \n",
       "0                       0                        1  \n",
       "1                       1                        0  \n",
       "\n",
       "[2 rows x 338 columns]"
      ]
     },
     "execution_count": 219,
     "metadata": {},
     "output_type": "execute_result"
    }
   ],
   "source": [
    "df_encoded.head(2)"
   ]
  },
  {
   "cell_type": "code",
   "execution_count": 249,
   "id": "feb04dc1-71e6-4e6b-9bf9-5eb918aeff43",
   "metadata": {},
   "outputs": [],
   "source": [
    "# Column names for later reference\n",
    "model_columns = X.columns.tolist()\n",
    "\n",
    "# Predict function using user input\n",
    "def predict_price():\n",
    "    print(\"\\nEnter car details below:\\n\")\n",
    "\n",
    "    # Get inputs from user\n",
    "    make = input(\"Enter Make (e.g., Toyota): \").strip()\n",
    "    car_model = input(\"Enter Model (e.g., Corolla): \").strip()\n",
    "    age = float(input(\"Enter Age of car (e.g., 5): \"))\n",
    "    engine_size = float(input(\"Enter Engine Size (e.g., 1.8): \"))\n",
    "    horse_power = float(input(\"Enter Horse Power (e.g., 140): \"))\n",
    "    condition = input(\"Enter Condition (Foreign Used or Nigerian Used): \").strip()\n",
    "\n",
    "    # Initialize input vector\n",
    "    x = np.zeros(len(model_columns))\n",
    "\n",
    "    # Assign numeric values\n",
    "    if 'Age' in model_columns:\n",
    "        x[model_columns.index('Age')] = age\n",
    "    if 'Engine Size' in model_columns:\n",
    "        x[model_columns.index('Engine Size')] = engine_size\n",
    "    if 'Horse Power' in model_columns:\n",
    "        x[model_columns.index('Horse Power')] = horse_power\n",
    "\n",
    "    # Assign one-hot features\n",
    "    one_hot_features = [\n",
    "        f\"Make_{make}\",\n",
    "        f\"Model_{car_model}\",\n",
    "        f\"Condition_{condition}\"\n",
    "    ]\n",
    "\n",
    "    for feature in one_hot_features:\n",
    "        if feature in model_columns:\n",
    "            x[model_columns.index(feature)] = 1\n",
    "        else:\n",
    "            print(f\"Warning: '{feature}' not found in dataset. It will be ignored.\")\n",
    "\n",
    "    # Predict and return price\n",
    "    predicted_price = bxm.predict([x])[0]\n",
    "    print(f\"\\nEstimated Price: ₦{predicted_price:,.2f}\")"
   ]
  },
  {
   "cell_type": "code",
   "execution_count": 253,
   "id": "811449f1-6cb9-4b11-a5e2-787296efc033",
   "metadata": {},
   "outputs": [
    {
     "name": "stdout",
     "output_type": "stream",
     "text": [
      "\n",
      "Enter car details below:\n",
      "\n"
     ]
    },
    {
     "name": "stdin",
     "output_type": "stream",
     "text": [
      "Enter Make (e.g., Toyota):  Mercedes-Benz\n",
      "Enter Model (e.g., Corolla):  Viano\n",
      "Enter Age of car (e.g., 5):  7\n",
      "Enter Engine Size (e.g., 1.8):  4\n",
      "Enter Horse Power (e.g., 140):  150\n",
      "Enter Condition (Foreign Used or Nigerian Used):  Foreign Used\n"
     ]
    },
    {
     "name": "stdout",
     "output_type": "stream",
     "text": [
      "\n",
      "Estimated Price: ₦39,542,912.00\n"
     ]
    }
   ],
   "source": [
    "predict_price()"
   ]
  },
  {
   "cell_type": "code",
   "execution_count": 216,
   "id": "aacf8d3d-468a-4d5c-9d7a-a0084bdceb90",
   "metadata": {},
   "outputs": [],
   "source": [
    "import pandas as pd\n",
    "\n",
    "# Saving my Encoded Dataset\n",
    "df_encoded.to_csv('C:/Users/Chris Jindu/Documents/Encoded Car Dataset.csv', index=False)\n"
   ]
  },
  {
   "cell_type": "code",
   "execution_count": 252,
   "id": "ea0eb698-29d6-45d9-bf11-8f924c0e2cc7",
   "metadata": {},
   "outputs": [
    {
     "name": "stdin",
     "output_type": "stream",
     "text": [
      "Enter the car Make (e.g., Toyota):  Mercedes-Benz\n"
     ]
    },
    {
     "name": "stdout",
     "output_type": "stream",
     "text": [
      "\n",
      "Models available for 'Mercedes-Benz':\n",
      "- GLK-Class\n",
      "- M Class\n",
      "- GL-Class\n",
      "- Viano\n",
      "- C300\n",
      "- C-Class\n",
      "- GLA 250\n",
      "- C350\n",
      "- GLE-Class\n",
      "- CLS\n",
      "- R-Class\n",
      "- E550\n",
      "- S-Class\n",
      "- E350\n",
      "- CLA-Class\n",
      "- C200\n",
      "- E300\n",
      "- E320\n",
      "- C220\n",
      "- C240\n",
      "- W123\n",
      "- C180\n",
      "- C230\n",
      "- GLC-Class\n",
      "- A-Class\n",
      "- G-Class\n",
      "- C43\n",
      "- GLS-Class\n",
      "- C250\n",
      "- GLA-Class\n",
      "- CL\n",
      "- E200\n",
      "- SLK-Class\n",
      "- C320\n",
      "- C280\n",
      "- 230E\n"
     ]
    }
   ],
   "source": [
    "# For getting the Models for Every Make\n",
    "# Get user input\n",
    "make_input = input(\"Enter the car Make (e.g., Toyota): \").strip()\n",
    "\n",
    "# Filter dataset by the given make\n",
    "filtered_models = df[df['Make'].str.lower() == make_input.lower()]['Model'].unique()\n",
    "\n",
    "# Display results\n",
    "if len(filtered_models) > 0:\n",
    "    print(f\"\\nModels available for '{make_input}':\")\n",
    "    for model in filtered_models:\n",
    "        print(f\"- {model}\")\n",
    "else:\n",
    "    print(f\"\\nNo models found for Make '{make_input}'. Check spelling or capitalization.\")"
   ]
  },
  {
   "cell_type": "code",
   "execution_count": null,
   "id": "80f123f9-78d2-4ab2-b88b-f674b8270db7",
   "metadata": {},
   "outputs": [],
   "source": []
  },
  {
   "cell_type": "markdown",
   "id": "ce57cc1d-2291-46d6-888f-753204fac170",
   "metadata": {},
   "source": [
    "#### Time to save our Model to a Pickle File for the App\n"
   ]
  },
  {
   "cell_type": "code",
   "execution_count": 246,
   "id": "e3a551ad-cff8-4248-ad66-01ae13e3ae02",
   "metadata": {},
   "outputs": [],
   "source": [
    "import pickle\n",
    "with open('C:/Users/Chris Jindu/Videos/Data Stuff/Pickle Files/Car_prices_model.pickle', 'wb') as f:\n",
    "    pickle.dump(bxm,f)"
   ]
  },
  {
   "cell_type": "code",
   "execution_count": 247,
   "id": "719d3e7d-fdf5-4f53-832c-7febed56ff7b",
   "metadata": {},
   "outputs": [],
   "source": [
    "import json\n",
    "columns = {\n",
    "    'data_columns' : [col.lower() for col in X.columns]\n",
    "}\n",
    "with open('C:/Users/Chris Jindu/Videos/Data Stuff/Pickle Files/Car_columns.json','w') as f:\n",
    "    f.write(json.dumps(columns))"
   ]
  },
  {
   "cell_type": "code",
   "execution_count": null,
   "id": "d8aa8176-84b9-4535-8cd0-458a4bc7eded",
   "metadata": {},
   "outputs": [],
   "source": []
  }
 ],
 "metadata": {
  "kernelspec": {
   "display_name": "Python 3 (ipykernel)",
   "language": "python",
   "name": "python3"
  },
  "language_info": {
   "codemirror_mode": {
    "name": "ipython",
    "version": 3
   },
   "file_extension": ".py",
   "mimetype": "text/x-python",
   "name": "python",
   "nbconvert_exporter": "python",
   "pygments_lexer": "ipython3",
   "version": "3.11.7"
  }
 },
 "nbformat": 4,
 "nbformat_minor": 5
}
